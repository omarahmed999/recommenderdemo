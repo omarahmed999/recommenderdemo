{
 "cells": [
  {
   "cell_type": "code",
   "execution_count": 1,
   "id": "ae757d08-3f3f-4098-88cd-3ca8ce6cbb2d",
   "metadata": {},
   "outputs": [
    {
     "name": "stdout",
     "output_type": "stream",
     "text": [
      "                                                Name  \\\n",
      "0                                How to Learn Online   \n",
      "1  Programming for Everybody (Getting Started wit...   \n",
      "2            CS50's Introduction to Computer Science   \n",
      "3                                 The Analytics Edge   \n",
      "4  Marketing Analytics: Marketing Measurement Str...   \n",
      "\n",
      "                              University Difficulty Level  \\\n",
      "0                                    edX         Beginner   \n",
      "1             The University of Michigan         Beginner   \n",
      "2                     Harvard University         Beginner   \n",
      "3  Massachusetts Institute of Technology     Intermediate   \n",
      "4     University of California, Berkeley         Beginner   \n",
      "\n",
      "                                                Link  \\\n",
      "0     https://www.edx.org/course/how-to-learn-online   \n",
      "1  https://www.edx.org/course/programming-for-eve...   \n",
      "2  https://www.edx.org/course/cs50s-introduction-...   \n",
      "3      https://www.edx.org/course/the-analytics-edge   \n",
      "4  https://www.edx.org/course/marketing-analytics...   \n",
      "\n",
      "                                               About  \\\n",
      "0  Learn essential strategies for successful onli...   \n",
      "1  This course is a \"no prerequisite\" introductio...   \n",
      "2  An introduction to the intellectual enterprise...   \n",
      "3  Through inspiring examples and stories, discov...   \n",
      "4     This course is part of a MicroMasters® Program   \n",
      "\n",
      "                                  Course Description  \n",
      "0  Designed for those who are new to elearning, t...  \n",
      "1  This course aims to teach everyone the basics ...  \n",
      "2  This is CS50x , Harvard University's introduct...  \n",
      "3  In the last decade, the amount of data availab...  \n",
      "4  Begin your journey in a new career in marketin...  \n",
      "Index(['Name', 'University', 'Difficulty Level', 'Link', 'About',\n",
      "       'Course Description'],\n",
      "      dtype='object')\n",
      "Name                  0\n",
      "University            0\n",
      "Difficulty Level      0\n",
      "Link                  0\n",
      "About                 0\n",
      "Course Description    0\n",
      "dtype: int64\n"
     ]
    }
   ],
   "source": [
    "import pandas as pd\n",
    "\n",
    "# Load the dataset\n",
    "df = pd.read_csv('edx.csv')  # Replace with the correct file path\n",
    "\n",
    "# Display the first few rows\n",
    "print(df.head())\n",
    "\n",
    "# Check columns\n",
    "print(df.columns)\n",
    "\n",
    "# Check for missing values\n",
    "print(df.isnull().sum())"
   ]
  },
  {
   "cell_type": "code",
   "execution_count": 2,
   "id": "b8e345ab-3e06-41ae-8533-fb73667755bd",
   "metadata": {},
   "outputs": [
    {
     "name": "stdout",
     "output_type": "stream",
     "text": [
      "0    How to Learn Online Designed for those who are...\n",
      "1    Programming for Everybody (Getting Started wit...\n",
      "2    CS50's Introduction to Computer Science This i...\n",
      "3    The Analytics Edge In the last decade, the amo...\n",
      "4    Marketing Analytics: Marketing Measurement Str...\n",
      "Name: combined_text, dtype: object\n"
     ]
    }
   ],
   "source": [
    "# Combine relevant text columns into a single feature\n",
    "df['combined_text'] = df['Name'] + ' ' + df['Course Description'] + ' ' + df['Difficulty Level']\n",
    "\n",
    "# Drop rows with missing combined_text\n",
    "df = df.dropna(subset=['combined_text'])\n",
    "\n",
    "# Display the combined text\n",
    "print(df['combined_text'].head())"
   ]
  },
  {
   "cell_type": "code",
   "execution_count": 3,
   "id": "09aa6066-d88b-4eee-863b-bffa75e5e915",
   "metadata": {},
   "outputs": [
    {
     "name": "stdout",
     "output_type": "stream",
     "text": [
      "(720, 5000)\n"
     ]
    }
   ],
   "source": [
    "from sklearn.feature_extraction.text import TfidfVectorizer\n",
    "\n",
    "# Initialize TF-IDF Vectorizer\n",
    "tfidf = TfidfVectorizer(stop_words='english', max_features=5000)\n",
    "\n",
    "# Fit and transform the combined text\n",
    "tfidf_matrix = tfidf.fit_transform(df['combined_text'])\n",
    "\n",
    "# Check the shape of the TF-IDF matrix\n",
    "print(tfidf_matrix.shape)  # (num_courses, num_features)"
   ]
  },
  {
   "cell_type": "code",
   "execution_count": 4,
   "id": "5083908f-3a77-47d6-b116-eff56038caec",
   "metadata": {},
   "outputs": [
    {
     "name": "stdout",
     "output_type": "stream",
     "text": [
      "(720, 720)\n"
     ]
    }
   ],
   "source": [
    "from sklearn.metrics.pairwise import cosine_similarity\n",
    "\n",
    "# Compute cosine similarity matrix\n",
    "cosine_sim = cosine_similarity(tfidf_matrix, tfidf_matrix)\n",
    "\n",
    "# Check the shape of the similarity matrix\n",
    "print(cosine_sim.shape)  # (num_courses, num_courses)"
   ]
  },
  {
   "cell_type": "code",
   "execution_count": 10,
   "id": "30cfaea0-84d2-432e-b169-b527de1230d2",
   "metadata": {},
   "outputs": [],
   "source": [
    "# Create a mapping from course title to index\n",
    "indices = pd.Series(df.index, index=df['Name']).drop_duplicates()\n",
    "\n",
    "# Function to get recommendations\n",
    "def get_recommendations(Name, cosine_sim=cosine_sim, top_n=10):\n",
    "    # Get the index of the course\n",
    "    idx = indices[Name]\n",
    "    \n",
    "    # Get pairwise similarity scores\n",
    "    sim_scores = list(enumerate(cosine_sim[idx]))\n",
    "    \n",
    "    # Sort courses based on similarity scores\n",
    "    sim_scores = sorted(sim_scores, key=lambda x: x[1], reverse=True)\n",
    "    \n",
    "    # Get top-N similar courses\n",
    "    sim_scores = sim_scores[1:top_n+1]  # Exclude the course itself\n",
    "    course_indices = [i[0] for i in sim_scores]\n",
    "    \n",
    "    # Return the top-N recommended courses\n",
    "    return df[['Name', 'University', 'Difficulty Level', 'Link', 'About', 'Course Description']].iloc[course_indices]"
   ]
  },
  {
   "cell_type": "code",
   "execution_count": 17,
   "id": "1c243b5c-2dcd-40ca-a310-c366ca76a793",
   "metadata": {},
   "outputs": [
    {
     "name": "stdout",
     "output_type": "stream",
     "text": [
      "                                                  Name  \\\n",
      "575  Introduction to Cloud Development with HTML5, ...   \n",
      "110            Programming for the Web with JavaScript   \n",
      "104                            JavaScript Introduction   \n",
      "125  CS50's Computer Science for Business Professio...   \n",
      "445  Human-Computer Interaction I: Fundamentals & D...   \n",
      "596  User Experience (UX) Design: Human Factors and...   \n",
      "19   CS50's Introduction to Artificial Intelligence...   \n",
      "276                                    Creative Coding   \n",
      "382  Computer Vision Fundamentals with Watson and O...   \n",
      "334                      Designing the User Experience   \n",
      "\n",
      "                                            University Difficulty Level  \\\n",
      "575                                                IBM         Beginner   \n",
      "110                         University of Pennsylvania     Intermediate   \n",
      "104                The World Wide Web Consortium (W3C)         Beginner   \n",
      "125                                 Harvard University         Beginner   \n",
      "445                The Georgia Institute of Technology         Beginner   \n",
      "596                                Tsinghua University         Advanced   \n",
      "19                                  Harvard University         Beginner   \n",
      "276                                New York University         Beginner   \n",
      "382                                                IBM         Beginner   \n",
      "334  The University of Maryland, College Park-Unive...         Beginner   \n",
      "\n",
      "                                                  Link  \\\n",
      "575  https://www.edx.org/course/introduction-to-clo...   \n",
      "110  https://www.edx.org/course/programming-for-the...   \n",
      "104  https://www.edx.org/course/javascript-introduc...   \n",
      "125  https://www.edx.org/course/cs50s-computer-scie...   \n",
      "445  https://www.edx.org/course/human-computer-inte...   \n",
      "596  https://www.edx.org/course/user-experience-ux-...   \n",
      "19   https://www.edx.org/course/cs50s-introduction-...   \n",
      "276         https://www.edx.org/course/creative-coding   \n",
      "382  https://www.edx.org/course/computer-vision-fun...   \n",
      "334  https://www.edx.org/course/designing-the-user-...   \n",
      "\n",
      "                                                 About  \\\n",
      "575  Learn the key tools and programming languages ...   \n",
      "110  Learn how to develop dynamic, interactive, and...   \n",
      "104  Learn JavaScript, a Web development programmin...   \n",
      "125  This is CS50’s introduction to computer scienc...   \n",
      "445  Learn the principles of Human-Computer Interac...   \n",
      "596  Learn user experience and user interface desig...   \n",
      "19   Learn to use machine learning in Python in thi...   \n",
      "276  Learn object-oriented programming for graphic ...   \n",
      "382  Learn about computer vision, one of the most e...   \n",
      "334  Translate product ideas into tangible assets b...   \n",
      "\n",
      "                                    Course Description  \n",
      "575  Want to take the first steps to become a Cloud...  \n",
      "110  JavaScript is the programming language of the ...  \n",
      "104  This course is part of W3C's \"Front-End Web De...  \n",
      "125  This is CS50 introduction to computer science ...  \n",
      "445  This course takes you through the first eight ...  \n",
      "596  The most successful products and services offe...  \n",
      "19   AI is transforming how we live, work, and play...  \n",
      "276  In Creative Coding, students learn to design a...  \n",
      "382  Computer Vision is one of the most exciting fi...  \n",
      "334  Designing the customer and user experience is ...  \n"
     ]
    }
   ],
   "source": [
    "# Test the recommender system\n",
    "course_title = \"Python Basics for Data Science\"  # Replace with a course title from the dataset\n",
    "recommendations = get_recommendations(course_title)\n",
    "print(recommendations)"
   ]
  },
  {
   "cell_type": "code",
   "execution_count": null,
   "id": "7c174e3f-d65b-4c43-8528-01a646be6c0c",
   "metadata": {},
   "outputs": [],
   "source": []
  }
 ],
 "metadata": {
  "kernelspec": {
   "display_name": "Python 3 (ipykernel)",
   "language": "python",
   "name": "python3"
  },
  "language_info": {
   "codemirror_mode": {
    "name": "ipython",
    "version": 3
   },
   "file_extension": ".py",
   "mimetype": "text/x-python",
   "name": "python",
   "nbconvert_exporter": "python",
   "pygments_lexer": "ipython3",
   "version": "3.11.9"
  }
 },
 "nbformat": 4,
 "nbformat_minor": 5
}
